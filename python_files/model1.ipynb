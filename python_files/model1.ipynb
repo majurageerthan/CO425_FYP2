{
 "cells": [
  {
   "cell_type": "code",
   "execution_count": 3,
   "metadata": {},
   "outputs": [],
   "source": [
    "import numpy as np\n",
    "import pandas as pd"
   ]
  },
  {
   "cell_type": "code",
   "execution_count": 4,
   "metadata": {},
   "outputs": [],
   "source": [
    "from sklearn.linear_model import LogisticRegression"
   ]
  },
  {
   "cell_type": "code",
   "execution_count": 5,
   "metadata": {},
   "outputs": [],
   "source": [
    "#csv file from train\n",
    "df = pd.read_csv('e14_e15_merged.csv', sep = ',')\n"
   ]
  },
  {
   "cell_type": "code",
   "execution_count": 6,
   "metadata": {},
   "outputs": [],
   "source": [
    "#csv file from test\n",
    "df_test = pd.read_csv('e16.csv', sep = ',')"
   ]
  },
  {
   "cell_type": "code",
   "execution_count": 7,
   "metadata": {},
   "outputs": [],
   "source": [
    "df.gender.replace(['Male', 'Female'], [1, 0], inplace=True)\n",
    "df_test.gender.replace(['Male', 'Female'], [1, 0], inplace=True)"
   ]
  },
  {
   "cell_type": "code",
   "execution_count": 8,
   "metadata": {},
   "outputs": [],
   "source": [
    "X = df.drop(\"final_grades\",1)   #Feature Matrix\n",
    "y = df[\"final_grades\"]          #Target Variable\n"
   ]
  },
  {
   "cell_type": "code",
   "execution_count": 9,
   "metadata": {},
   "outputs": [],
   "source": [
    "X_T = df.drop(\"final_grades\",1)   #Feature Matrix\n",
    "y_T = df[\"final_grades\"]          #Target Variable"
   ]
  },
  {
   "cell_type": "code",
   "execution_count": 10,
   "metadata": {},
   "outputs": [
    {
     "data": {
      "text/plain": [
       "LogisticRegression(C=1.0, class_weight=None, dual=False, fit_intercept=True,\n",
       "          intercept_scaling=1, max_iter=100, multi_class='ovr', n_jobs=1,\n",
       "          penalty='l2', random_state=None, solver='liblinear', tol=0.0001,\n",
       "          verbose=0, warm_start=False)"
      ]
     },
     "execution_count": 10,
     "metadata": {},
     "output_type": "execute_result"
    }
   ],
   "source": [
    "clf = LogisticRegression()\n",
    "clf.fit(X,y)"
   ]
  },
  {
   "cell_type": "code",
   "execution_count": 11,
   "metadata": {},
   "outputs": [],
   "source": [
    "y_pred = clf.predict(X_T)"
   ]
  },
  {
   "cell_type": "code",
   "execution_count": 12,
   "metadata": {},
   "outputs": [],
   "source": [
    "from sklearn.metrics import confusion_matrix\n",
    "confusion_matrix=confusion_matrix(y_T,y_pred)"
   ]
  },
  {
   "cell_type": "code",
   "execution_count": 13,
   "metadata": {},
   "outputs": [
    {
     "name": "stdout",
     "output_type": "stream",
     "text": [
      "\n",
      "confusion_matrix | LogisticRegression\n",
      "\n",
      "[[19 33 16  9 51  1  0  0  0]\n",
      " [13 67 16  7 32  1  0  0  0]\n",
      " [12 34 30  8 64  3  1  0  0]\n",
      " [ 6 21 13 32 52  6  1  0  0]\n",
      " [11 26 18 20 89  1  2  0  0]\n",
      " [ 4  6  3 16 38  7  0  0  0]\n",
      " [ 0  0  0  3  3  3  0  0  0]\n",
      " [ 2  0  0  6  9  2  1  0  0]\n",
      " [ 0  0  0  0  1  0  0  0  1]]\n"
     ]
    }
   ],
   "source": [
    "print('\\nconfusion_matrix | LogisticRegression\\n')\n",
    "print(confusion_matrix)\n"
   ]
  },
  {
   "cell_type": "code",
   "execution_count": 14,
   "metadata": {},
   "outputs": [
    {
     "name": "stdout",
     "output_type": "stream",
     "text": [
      "\n",
      "classification_report | LogisticRegression\n",
      "\n",
      "             precision    recall  f1-score   support\n",
      "\n",
      "          A       0.28      0.15      0.19       129\n",
      "         A+       0.36      0.49      0.41       136\n",
      "         A-       0.31      0.20      0.24       152\n",
      "          B       0.32      0.24      0.28       131\n",
      "         B+       0.26      0.53      0.35       167\n",
      "         B-       0.29      0.09      0.14        74\n",
      "          C       0.00      0.00      0.00         9\n",
      "         C+       0.00      0.00      0.00        20\n",
      "          E       1.00      0.50      0.67         2\n",
      "\n",
      "avg / total       0.29      0.30      0.27       820\n",
      "\n",
      "Accuracy | LogisticRegression: 0.29878048780487804 \n",
      "\n"
     ]
    },
    {
     "name": "stderr",
     "output_type": "stream",
     "text": [
      "C:\\Users\\Hassana\\Anaconda3\\lib\\site-packages\\sklearn\\metrics\\classification.py:1135: UndefinedMetricWarning: Precision and F-score are ill-defined and being set to 0.0 in labels with no predicted samples.\n",
      "  'precision', 'predicted', average, warn_for)\n"
     ]
    }
   ],
   "source": [
    "from sklearn import svm #Import svm model\n",
    "from sklearn import metrics #Import scikit-learn metrics module for accuracy calculation\n",
    "from sklearn.metrics import classification_report\n",
    "\n",
    "print('\\nclassification_report | LogisticRegression\\n')\n",
    "print(classification_report(y_T, y_pred))\n",
    "print(\"Accuracy | LogisticRegression:\",metrics.accuracy_score(y_T, y_pred),\"\\n\")\n"
   ]
  },
  {
   "cell_type": "code",
   "execution_count": 20,
   "metadata": {},
   "outputs": [
    {
     "name": "stdout",
     "output_type": "stream",
     "text": [
      "\n",
      "confusion_matrix | Naivebayes\n",
      "\n",
      "[[19 33 16  9 51  1  0  0  0]\n",
      " [13 67 16  7 32  1  0  0  0]\n",
      " [12 34 30  8 64  3  1  0  0]\n",
      " [ 6 21 13 32 52  6  1  0  0]\n",
      " [11 26 18 20 89  1  2  0  0]\n",
      " [ 4  6  3 16 38  7  0  0  0]\n",
      " [ 0  0  0  3  3  3  0  0  0]\n",
      " [ 2  0  0  6  9  2  1  0  0]\n",
      " [ 0  0  0  0  1  0  0  0  1]]\n",
      "\n",
      "classification_report | Naive Bayes\n",
      "\n",
      "             precision    recall  f1-score   support\n",
      "\n",
      "          A       0.28      0.10      0.15       129\n",
      "         A+       0.38      0.28      0.32       136\n",
      "         A-       0.27      0.14      0.19       152\n",
      "          B       0.23      0.08      0.12       131\n",
      "         B+       0.24      0.30      0.27       167\n",
      "         B-       0.13      0.16      0.14        74\n",
      "          C       0.08      1.00      0.14         9\n",
      "         C+       0.06      0.40      0.11        20\n",
      "          E       0.50      1.00      0.67         2\n",
      "\n",
      "avg / total       0.26      0.20      0.20       820\n",
      "\n",
      "Accuracy | Naive Bayes: 0.20121951219512196 \n",
      "\n"
     ]
    }
   ],
   "source": [
    "from sklearn.naive_bayes import GaussianNB\n",
    "# Naive Bayes \n",
    "classifier = GaussianNB()\n",
    "classifier.fit(X, y)\n",
    "y_pred = classifier.predict(X_T)\n",
    "print('\\nconfusion_matrix | Naivebayes\\n')\n",
    "print(confusion_matrix)\n",
    "print('\\nclassification_report | Naive Bayes\\n')\n",
    "print(classification_report(y_T, y_pred))\n",
    "print(\"Accuracy | Naive Bayes:\",metrics.accuracy_score(y_T, y_pred),\"\\n\") # Model Accuracy: how often is the classifier correct?\n"
   ]
  },
  {
   "cell_type": "code",
   "execution_count": 21,
   "metadata": {},
   "outputs": [
    {
     "name": "stdout",
     "output_type": "stream",
     "text": [
      "\n",
      "confusion_matrix | SVM\n",
      "\n",
      "[[19 33 16  9 51  1  0  0  0]\n",
      " [13 67 16  7 32  1  0  0  0]\n",
      " [12 34 30  8 64  3  1  0  0]\n",
      " [ 6 21 13 32 52  6  1  0  0]\n",
      " [11 26 18 20 89  1  2  0  0]\n",
      " [ 4  6  3 16 38  7  0  0  0]\n",
      " [ 0  0  0  3  3  3  0  0  0]\n",
      " [ 2  0  0  6  9  2  1  0  0]\n",
      " [ 0  0  0  0  1  0  0  0  1]]\n",
      "\n",
      "classification_report | svm\n",
      "\n",
      "             precision    recall  f1-score   support\n",
      "\n",
      "          A       0.29      0.11      0.16       129\n",
      "         A+       0.41      0.44      0.43       136\n",
      "         A-       0.26      0.19      0.22       152\n",
      "          B       0.38      0.09      0.15       131\n",
      "         B+       0.24      0.69      0.36       167\n",
      "         B-       0.00      0.00      0.00        74\n",
      "          C       0.17      0.11      0.13         9\n",
      "         C+       0.00      0.00      0.00        20\n",
      "          E       1.00      0.50      0.67         2\n",
      "\n",
      "avg / total       0.28      0.28      0.24       820\n",
      "\n",
      "Accuracy | SVM: 0.28292682926829266 \n",
      "\n"
     ]
    },
    {
     "name": "stderr",
     "output_type": "stream",
     "text": [
      "C:\\Users\\Hassana\\Anaconda3\\lib\\site-packages\\sklearn\\metrics\\classification.py:1135: UndefinedMetricWarning: Precision and F-score are ill-defined and being set to 0.0 in labels with no predicted samples.\n",
      "  'precision', 'predicted', average, warn_for)\n"
     ]
    }
   ],
   "source": [
    "clf = svm.SVC(kernel='linear') #Create a svm Classifier\n",
    "clf.fit(X, y) #Train the model using the training sets\n",
    "\n",
    "y_pred = clf.predict(X_T)\n",
    "print('\\nconfusion_matrix | SVM\\n')\n",
    "print(confusion_matrix)\n",
    "\n",
    "print('\\nclassification_report | svm\\n')\n",
    "print(classification_report(y_T, y_pred))\n",
    "print(\"Accuracy | SVM:\",metrics.accuracy_score(y_T, y_pred),\"\\n\") # Model Accuracy\n"
   ]
  },
  {
   "cell_type": "code",
   "execution_count": 23,
   "metadata": {},
   "outputs": [
    {
     "name": "stdout",
     "output_type": "stream",
     "text": [
      "\n",
      "confusion_matrix | Multilayer Perceptron\n",
      "\n",
      "[[19 33 16  9 51  1  0  0  0]\n",
      " [13 67 16  7 32  1  0  0  0]\n",
      " [12 34 30  8 64  3  1  0  0]\n",
      " [ 6 21 13 32 52  6  1  0  0]\n",
      " [11 26 18 20 89  1  2  0  0]\n",
      " [ 4  6  3 16 38  7  0  0  0]\n",
      " [ 0  0  0  3  3  3  0  0  0]\n",
      " [ 2  0  0  6  9  2  1  0  0]\n",
      " [ 0  0  0  0  1  0  0  0  1]]\n",
      "\n",
      "classification_report | mlp\n",
      "\n",
      "             precision    recall  f1-score   support\n",
      "\n",
      "          A       0.20      0.40      0.27       129\n",
      "         A+       0.43      0.32      0.36       136\n",
      "         A-       0.29      0.04      0.07       152\n",
      "          B       0.25      0.21      0.23       131\n",
      "         B+       0.25      0.49      0.33       167\n",
      "         B-       0.00      0.00      0.00        74\n",
      "          C       0.00      0.00      0.00         9\n",
      "         C+       0.00      0.00      0.00        20\n",
      "          E       1.00      0.50      0.67         2\n",
      "\n",
      "avg / total       0.25      0.26      0.22       820\n",
      "\n",
      "Accuracy | MLP: 0.2573170731707317 \n",
      "\n"
     ]
    },
    {
     "name": "stderr",
     "output_type": "stream",
     "text": [
      "C:\\Users\\Hassana\\Anaconda3\\lib\\site-packages\\sklearn\\metrics\\classification.py:1135: UndefinedMetricWarning: Precision and F-score are ill-defined and being set to 0.0 in labels with no predicted samples.\n",
      "  'precision', 'predicted', average, warn_for)\n"
     ]
    }
   ],
   "source": [
    "from sklearn.neural_network import MLPClassifier\n",
    "mlp=MLPClassifier()\n",
    "mlp.fit(X,y)\n",
    "y_pred=mlp.predict(X_T)\n",
    "print('\\nconfusion_matrix | Multilayer Perceptron\\n')\n",
    "print(confusion_matrix)\n",
    "\n",
    "print('\\nclassification_report | mlp\\n')\n",
    "print(classification_report(y_T, y_pred))\n",
    "print(\"Accuracy | MLP:\",metrics.accuracy_score(y_T, y_pred),\"\\n\")"
   ]
  },
  {
   "cell_type": "code",
   "execution_count": 18,
   "metadata": {},
   "outputs": [],
   "source": [
    "from sklearn.ensemble import RandomForestRegressor"
   ]
  },
  {
   "cell_type": "code",
   "execution_count": 25,
   "metadata": {},
   "outputs": [
    {
     "ename": "NameError",
     "evalue": "name 'final_grades' is not defined",
     "output_type": "error",
     "traceback": [
      "\u001b[1;31m---------------------------------------------------------------------------\u001b[0m",
      "\u001b[1;31mNameError\u001b[0m                                 Traceback (most recent call last)",
      "\u001b[1;32m<ipython-input-25-26131c589cf7>\u001b[0m in \u001b[0;36m<module>\u001b[1;34m()\u001b[0m\n\u001b[0;32m      1\u001b[0m \u001b[1;32mfrom\u001b[0m \u001b[0msklearn\u001b[0m\u001b[1;33m.\u001b[0m\u001b[0mensemble\u001b[0m \u001b[1;32mimport\u001b[0m \u001b[0mRandomForestRegressor\u001b[0m\u001b[1;33m\u001b[0m\u001b[0m\n\u001b[1;32m----> 2\u001b[1;33m \u001b[1;33m[\u001b[0m\u001b[0mfinal_grades\u001b[0m\u001b[1;33m]\u001b[0m \u001b[1;33m=\u001b[0m \u001b[0mpd\u001b[0m\u001b[1;33m.\u001b[0m\u001b[0mto_numeric\u001b[0m\u001b[1;33m(\u001b[0m\u001b[1;33m[\u001b[0m\u001b[0mfinal_grades\u001b[0m\u001b[1;33m]\u001b[0m\u001b[1;33m)\u001b[0m\u001b[1;33m\u001b[0m\u001b[0m\n\u001b[0m\u001b[0;32m      3\u001b[0m \u001b[0mregressor\u001b[0m \u001b[1;33m=\u001b[0m \u001b[0mRandomForestRegressor\u001b[0m\u001b[1;33m(\u001b[0m\u001b[1;33m)\u001b[0m\u001b[1;33m\u001b[0m\u001b[0m\n\u001b[0;32m      4\u001b[0m \u001b[0mregressor\u001b[0m\u001b[1;33m.\u001b[0m\u001b[0mfit\u001b[0m\u001b[1;33m(\u001b[0m\u001b[0mX\u001b[0m\u001b[1;33m,\u001b[0m\u001b[0my\u001b[0m\u001b[1;33m)\u001b[0m\u001b[1;33m\u001b[0m\u001b[0m\n\u001b[0;32m      5\u001b[0m \u001b[0my_pred\u001b[0m\u001b[1;33m=\u001b[0m\u001b[0mregressor\u001b[0m\u001b[1;33m.\u001b[0m\u001b[0mpredict\u001b[0m\u001b[1;33m(\u001b[0m\u001b[0mX_T\u001b[0m\u001b[1;33m)\u001b[0m\u001b[1;33m\u001b[0m\u001b[0m\n",
      "\u001b[1;31mNameError\u001b[0m: name 'final_grades' is not defined"
     ]
    }
   ],
   "source": [
    "from sklearn.ensemble import RandomForestRegressor\n",
    "[final_grades] = pd.to_numeric([final_grades])\n",
    "regressor = RandomForestRegressor()\n",
    "regressor.fit(X,y)\n",
    "y_pred=regressor.predict(X_T)"
   ]
  },
  {
   "cell_type": "code",
   "execution_count": null,
   "metadata": {},
   "outputs": [],
   "source": []
  }
 ],
 "metadata": {
  "kernelspec": {
   "display_name": "Python 3",
   "language": "python",
   "name": "python3"
  },
  "language_info": {
   "codemirror_mode": {
    "name": "ipython",
    "version": 3
   },
   "file_extension": ".py",
   "mimetype": "text/x-python",
   "name": "python",
   "nbconvert_exporter": "python",
   "pygments_lexer": "ipython3",
   "version": "3.7.0"
  }
 },
 "nbformat": 4,
 "nbformat_minor": 2
}
