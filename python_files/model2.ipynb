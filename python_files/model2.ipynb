{
 "cells": [
  {
   "cell_type": "code",
   "execution_count": 22,
   "metadata": {},
   "outputs": [],
   "source": [
    "import numpy as np\n",
    "import pandas as pd"
   ]
  },
  {
   "cell_type": "code",
   "execution_count": 23,
   "metadata": {},
   "outputs": [],
   "source": [
    "from sklearn.linear_model import LogisticRegression"
   ]
  },
  {
   "cell_type": "code",
   "execution_count": 24,
   "metadata": {},
   "outputs": [],
   "source": [
    "\n",
    "#csv file from train\n",
    "df = pd.read_csv('e14_e15_e16_merged.csv', sep = ',')\n"
   ]
  },
  {
   "cell_type": "code",
   "execution_count": 25,
   "metadata": {},
   "outputs": [],
   "source": [
    "df.gender.replace(['Male', 'Female'], [1, 0], inplace=True)\n"
   ]
  },
  {
   "cell_type": "code",
   "execution_count": 26,
   "metadata": {},
   "outputs": [],
   "source": [
    "X = df.drop(\"final_grades\",1)   #Feature Matrix\n",
    "y = df[\"final_grades\"]          #Target Variable\n"
   ]
  },
  {
   "cell_type": "code",
   "execution_count": 27,
   "metadata": {},
   "outputs": [],
   "source": [
    "X_train,X_test,y_train,y_test=train_test_split(X,y,test_size=.2,random_state=0)"
   ]
  },
  {
   "cell_type": "code",
   "execution_count": 28,
   "metadata": {},
   "outputs": [
    {
     "data": {
      "text/plain": [
       "LogisticRegression(C=1.0, class_weight=None, dual=False, fit_intercept=True,\n",
       "          intercept_scaling=1, max_iter=100, multi_class='ovr', n_jobs=1,\n",
       "          penalty='l2', random_state=None, solver='liblinear', tol=0.0001,\n",
       "          verbose=0, warm_start=False)"
      ]
     },
     "execution_count": 28,
     "metadata": {},
     "output_type": "execute_result"
    }
   ],
   "source": [
    "clf = LogisticRegression()\n",
    "clf.fit(X_train,y_train)"
   ]
  },
  {
   "cell_type": "code",
   "execution_count": 29,
   "metadata": {},
   "outputs": [],
   "source": [
    "y_pred = clf.predict(X_test)"
   ]
  },
  {
   "cell_type": "code",
   "execution_count": 30,
   "metadata": {},
   "outputs": [
    {
     "name": "stdout",
     "output_type": "stream",
     "text": [
      "\n",
      "confusion_matrix | LogisticRegression\n",
      "\n",
      "[[ 4  5  3  8  7  2  0  0  0  0]\n",
      " [ 1 12  1  4  5  0  0  0  0  0]\n",
      " [ 6  6  3 11 10  0  0  0  0  0]\n",
      " [ 4  1  2 25  6  7  0  1  0  0]\n",
      " [ 3  6  1 31 12  1  0  0  0  0]\n",
      " [ 1  2  0 14  6  5  0  0  0  0]\n",
      " [ 0  0  1  4  0  0  0  0  0  0]\n",
      " [ 0  0  0 10  4  7  0  0  0  0]\n",
      " [ 0  0  0  1  0  1  0  1  0  0]\n",
      " [ 0  0  0  0  1  0  0  0  0  1]]\n"
     ]
    }
   ],
   "source": [
    "from sklearn.metrics import confusion_matrix\n",
    "confusion_matrix=confusion_matrix(y_test,y_pred)\n",
    "print('\\nconfusion_matrix | LogisticRegression\\n')\n",
    "print(confusion_matrix)\n"
   ]
  },
  {
   "cell_type": "code",
   "execution_count": 31,
   "metadata": {},
   "outputs": [
    {
     "name": "stdout",
     "output_type": "stream",
     "text": [
      "\n",
      "classification_report | LogisticRegression\n",
      "\n",
      "             precision    recall  f1-score   support\n",
      "\n",
      "          A       0.21      0.14      0.17        29\n",
      "         A+       0.38      0.52      0.44        23\n",
      "         A-       0.27      0.08      0.13        36\n",
      "          B       0.23      0.54      0.32        46\n",
      "         B+       0.24      0.22      0.23        54\n",
      "         B-       0.22      0.18      0.20        28\n",
      "          C       0.00      0.00      0.00         5\n",
      "         C+       0.00      0.00      0.00        21\n",
      "         C-       0.00      0.00      0.00         3\n",
      "          E       1.00      0.50      0.67         2\n",
      "\n",
      "avg / total       0.23      0.25      0.22       247\n",
      "\n",
      "Accuracy | LogisticRegression: 0.25101214574898784 \n",
      "\n"
     ]
    },
    {
     "name": "stderr",
     "output_type": "stream",
     "text": [
      "C:\\Users\\Hassana\\Anaconda3\\lib\\site-packages\\sklearn\\metrics\\classification.py:1135: UndefinedMetricWarning: Precision and F-score are ill-defined and being set to 0.0 in labels with no predicted samples.\n",
      "  'precision', 'predicted', average, warn_for)\n"
     ]
    }
   ],
   "source": [
    "from sklearn import svm #Import svm model\n",
    "from sklearn import metrics #Import scikit-learn metrics module for accuracy calculation\n",
    "from sklearn.metrics import classification_report\n",
    "\n",
    "print('\\nclassification_report | LogisticRegression\\n')\n",
    "print(classification_report(y_test, y_pred))\n",
    "print(\"Accuracy | LogisticRegression:\",metrics.accuracy_score(y_test, y_pred),\"\\n\")\n"
   ]
  },
  {
   "cell_type": "code",
   "execution_count": 32,
   "metadata": {},
   "outputs": [
    {
     "name": "stdout",
     "output_type": "stream",
     "text": [
      "\n",
      "confusion_matrix | Naivebayes\n",
      "\n",
      "[[ 4  5  3  8  7  2  0  0  0  0]\n",
      " [ 1 12  1  4  5  0  0  0  0  0]\n",
      " [ 6  6  3 11 10  0  0  0  0  0]\n",
      " [ 4  1  2 25  6  7  0  1  0  0]\n",
      " [ 3  6  1 31 12  1  0  0  0  0]\n",
      " [ 1  2  0 14  6  5  0  0  0  0]\n",
      " [ 0  0  1  4  0  0  0  0  0  0]\n",
      " [ 0  0  0 10  4  7  0  0  0  0]\n",
      " [ 0  0  0  1  0  1  0  1  0  0]\n",
      " [ 0  0  0  0  1  0  0  0  0  1]]\n",
      "\n",
      "classification_report | Naive Bayes\n",
      "\n",
      "             precision    recall  f1-score   support\n",
      "\n",
      "          A       0.17      0.14      0.15        29\n",
      "         A+       0.37      0.30      0.33        23\n",
      "         A-       0.00      0.00      0.00        36\n",
      "          B       0.08      0.07      0.07        46\n",
      "         B+       0.17      0.09      0.12        54\n",
      "         B-       0.12      0.25      0.16        28\n",
      "          C       0.03      0.40      0.06         5\n",
      "         C+       0.00      0.00      0.00        21\n",
      "         C-       0.00      0.00      0.00         3\n",
      "          E       0.00      0.00      0.00         2\n",
      "\n",
      "avg / total       0.12      0.11      0.11       247\n",
      "\n",
      "Accuracy | Naive Bayes: 0.11336032388663968 \n",
      "\n"
     ]
    },
    {
     "name": "stderr",
     "output_type": "stream",
     "text": [
      "C:\\Users\\Hassana\\Anaconda3\\lib\\site-packages\\sklearn\\metrics\\classification.py:1135: UndefinedMetricWarning: Precision and F-score are ill-defined and being set to 0.0 in labels with no predicted samples.\n",
      "  'precision', 'predicted', average, warn_for)\n"
     ]
    }
   ],
   "source": [
    "from sklearn.naive_bayes import GaussianNB\n",
    "# Naive Bayes \n",
    "classifier = GaussianNB()\n",
    "classifier.fit(X_train, y_train)\n",
    "y_pred = classifier.predict(X_test)\n",
    "print('\\nconfusion_matrix | Naivebayes\\n')\n",
    "print(confusion_matrix)\n",
    "print('\\nclassification_report | Naive Bayes\\n')\n",
    "print(classification_report(y_test, y_pred))\n",
    "print(\"Accuracy | Naive Bayes:\",metrics.accuracy_score(y_test, y_pred),\"\\n\") # Model Accuracy: how often is the classifier correct?\n"
   ]
  },
  {
   "cell_type": "code",
   "execution_count": 33,
   "metadata": {},
   "outputs": [
    {
     "name": "stdout",
     "output_type": "stream",
     "text": [
      "\n",
      "confusion_matrix | SVM\n",
      "\n",
      "[[ 4  5  3  8  7  2  0  0  0  0]\n",
      " [ 1 12  1  4  5  0  0  0  0  0]\n",
      " [ 6  6  3 11 10  0  0  0  0  0]\n",
      " [ 4  1  2 25  6  7  0  1  0  0]\n",
      " [ 3  6  1 31 12  1  0  0  0  0]\n",
      " [ 1  2  0 14  6  5  0  0  0  0]\n",
      " [ 0  0  1  4  0  0  0  0  0  0]\n",
      " [ 0  0  0 10  4  7  0  0  0  0]\n",
      " [ 0  0  0  1  0  1  0  1  0  0]\n",
      " [ 0  0  0  0  1  0  0  0  0  1]]\n",
      "\n",
      "classification_report | svm\n",
      "\n",
      "             precision    recall  f1-score   support\n",
      "\n",
      "          A       0.17      0.14      0.15        29\n",
      "         A+       0.38      0.39      0.38        23\n",
      "         A-       0.40      0.17      0.24        36\n",
      "          B       0.23      0.70      0.35        46\n",
      "         B+       0.19      0.17      0.18        54\n",
      "         B-       0.00      0.00      0.00        28\n",
      "          C       0.00      0.00      0.00         5\n",
      "         C+       0.00      0.00      0.00        21\n",
      "         C-       0.00      0.00      0.00         3\n",
      "          E       0.00      0.00      0.00         2\n",
      "\n",
      "avg / total       0.20      0.24      0.19       247\n",
      "\n",
      "Accuracy | SVM: 0.242914979757085 \n",
      "\n"
     ]
    },
    {
     "name": "stderr",
     "output_type": "stream",
     "text": [
      "C:\\Users\\Hassana\\Anaconda3\\lib\\site-packages\\sklearn\\metrics\\classification.py:1135: UndefinedMetricWarning: Precision and F-score are ill-defined and being set to 0.0 in labels with no predicted samples.\n",
      "  'precision', 'predicted', average, warn_for)\n"
     ]
    }
   ],
   "source": [
    "clf = svm.SVC(kernel='linear') #Create a svm Classifier\n",
    "clf.fit(X_train, y_train) #Train the model using the training sets\n",
    "\n",
    "y_pred = clf.predict(X_test)\n",
    "print('\\nconfusion_matrix | SVM\\n')\n",
    "print(confusion_matrix)\n",
    "\n",
    "print('\\nclassification_report | svm\\n')\n",
    "print(classification_report(y_test, y_pred))\n",
    "print(\"Accuracy | SVM:\",metrics.accuracy_score(y_test, y_pred),\"\\n\") # Model Accuracy\n"
   ]
  },
  {
   "cell_type": "code",
   "execution_count": 34,
   "metadata": {},
   "outputs": [
    {
     "name": "stdout",
     "output_type": "stream",
     "text": [
      "\n",
      "confusion_matrix | Multilayer Perceptron\n",
      "\n",
      "[[ 4  5  3  8  7  2  0  0  0  0]\n",
      " [ 1 12  1  4  5  0  0  0  0  0]\n",
      " [ 6  6  3 11 10  0  0  0  0  0]\n",
      " [ 4  1  2 25  6  7  0  1  0  0]\n",
      " [ 3  6  1 31 12  1  0  0  0  0]\n",
      " [ 1  2  0 14  6  5  0  0  0  0]\n",
      " [ 0  0  1  4  0  0  0  0  0  0]\n",
      " [ 0  0  0 10  4  7  0  0  0  0]\n",
      " [ 0  0  0  1  0  1  0  1  0  0]\n",
      " [ 0  0  0  0  1  0  0  0  0  1]]\n",
      "\n",
      "classification_report | mlp\n",
      "\n",
      "             precision    recall  f1-score   support\n",
      "\n",
      "          A       0.00      0.00      0.00        29\n",
      "         A+       0.41      0.48      0.44        23\n",
      "         A-       0.19      0.25      0.22        36\n",
      "          B       0.23      0.50      0.32        46\n",
      "         B+       0.23      0.13      0.17        54\n",
      "         B-       0.15      0.18      0.16        28\n",
      "          C       0.50      0.20      0.29         5\n",
      "         C+       0.00      0.00      0.00        21\n",
      "         C-       0.00      0.00      0.00         3\n",
      "          E       0.00      0.00      0.00         2\n",
      "\n",
      "avg / total       0.19      0.23      0.19       247\n",
      "\n",
      "Accuracy | MLP: 0.22672064777327935 \n",
      "\n"
     ]
    },
    {
     "name": "stderr",
     "output_type": "stream",
     "text": [
      "C:\\Users\\Hassana\\Anaconda3\\lib\\site-packages\\sklearn\\metrics\\classification.py:1135: UndefinedMetricWarning: Precision and F-score are ill-defined and being set to 0.0 in labels with no predicted samples.\n",
      "  'precision', 'predicted', average, warn_for)\n"
     ]
    }
   ],
   "source": [
    "from sklearn.neural_network import MLPClassifier\n",
    "mlp=MLPClassifier()\n",
    "mlp.fit(X_train,y_train)\n",
    "y_pred=mlp.predict(X_test)\n",
    "print('\\nconfusion_matrix | Multilayer Perceptron\\n')\n",
    "print(confusion_matrix)\n",
    "\n",
    "print('\\nclassification_report | mlp\\n')\n",
    "print(classification_report(y_test, y_pred))\n",
    "print(\"Accuracy | MLP:\",metrics.accuracy_score(y_test, y_pred),\"\\n\")"
   ]
  },
  {
   "cell_type": "code",
   "execution_count": null,
   "metadata": {},
   "outputs": [],
   "source": []
  },
  {
   "cell_type": "code",
   "execution_count": null,
   "metadata": {},
   "outputs": [],
   "source": []
  },
  {
   "cell_type": "code",
   "execution_count": null,
   "metadata": {},
   "outputs": [],
   "source": []
  },
  {
   "cell_type": "code",
   "execution_count": null,
   "metadata": {},
   "outputs": [],
   "source": []
  },
  {
   "cell_type": "code",
   "execution_count": null,
   "metadata": {},
   "outputs": [],
   "source": []
  }
 ],
 "metadata": {
  "kernelspec": {
   "display_name": "Python 3",
   "language": "python",
   "name": "python3"
  },
  "language_info": {
   "codemirror_mode": {
    "name": "ipython",
    "version": 3
   },
   "file_extension": ".py",
   "mimetype": "text/x-python",
   "name": "python",
   "nbconvert_exporter": "python",
   "pygments_lexer": "ipython3",
   "version": "3.7.0"
  }
 },
 "nbformat": 4,
 "nbformat_minor": 2
}
