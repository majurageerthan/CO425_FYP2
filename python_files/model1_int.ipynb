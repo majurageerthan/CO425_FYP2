{
 "cells": [
  {
   "cell_type": "code",
   "execution_count": 1,
   "metadata": {},
   "outputs": [],
   "source": [
    "import numpy as np\n",
    "import pandas as pd"
   ]
  },
  {
   "cell_type": "code",
   "execution_count": 2,
   "metadata": {},
   "outputs": [],
   "source": [
    "from sklearn.linear_model import LogisticRegression"
   ]
  },
  {
   "cell_type": "code",
   "execution_count": 3,
   "metadata": {},
   "outputs": [],
   "source": [
    "#csv file from train\n",
    "df = pd.read_csv('e14_e15_merged_int.csv', sep = ',')\n"
   ]
  },
  {
   "cell_type": "code",
   "execution_count": 4,
   "metadata": {},
   "outputs": [],
   "source": [
    "#csv file from test\n",
    "df_test = pd.read_csv('e16_int.csv', sep = ',')"
   ]
  },
  {
   "cell_type": "code",
   "execution_count": 5,
   "metadata": {},
   "outputs": [],
   "source": [
    "df.gender.replace(['Male', 'Female'], [1, 0], inplace=True)\n",
    "df_test.gender.replace(['Male', 'Female'], [1, 0], inplace=True)"
   ]
  },
  {
   "cell_type": "code",
   "execution_count": 6,
   "metadata": {},
   "outputs": [],
   "source": [
    "X = df.drop(\"final_grades\",1)   #Feature Matrix\n",
    "y = df[\"final_grades\"]          #Target Variable\n"
   ]
  },
  {
   "cell_type": "code",
   "execution_count": 7,
   "metadata": {},
   "outputs": [],
   "source": [
    "X_T = df.drop(\"final_grades\",1)   #Feature Matrix\n",
    "y_T = df[\"final_grades\"]          #Target Variable"
   ]
  },
  {
   "cell_type": "code",
   "execution_count": 8,
   "metadata": {},
   "outputs": [],
   "source": [
    "clf = LogisticRegression()\n",
    "clf.fit(X,y)\n",
    "y_pred = clf.predict(X_T)"
   ]
  },
  {
   "cell_type": "code",
   "execution_count": 9,
   "metadata": {},
   "outputs": [
    {
     "name": "stdout",
     "output_type": "stream",
     "text": [
      "\n",
      "confusion_matrix | LogisticRegression\n",
      "\n",
      "[[272 145   0   0]\n",
      " [144 228   0   0]\n",
      " [  5  24   0   0]\n",
      " [  0   2   0   0]]\n",
      "\n",
      "classification_report | LogisticRegression\n",
      "\n",
      "             precision    recall  f1-score   support\n",
      "\n",
      "          A       0.65      0.65      0.65       417\n",
      "          B       0.57      0.61      0.59       372\n",
      "          C       0.00      0.00      0.00        29\n",
      "          E       0.00      0.00      0.00         2\n",
      "\n",
      "avg / total       0.59      0.61      0.60       820\n",
      "\n",
      "Accuracy | LogisticRegression: 0.6097560975609756 \n",
      "\n"
     ]
    },
    {
     "name": "stderr",
     "output_type": "stream",
     "text": [
      "C:\\Users\\Hassana\\Anaconda3\\lib\\site-packages\\sklearn\\metrics\\classification.py:1135: UndefinedMetricWarning: Precision and F-score are ill-defined and being set to 0.0 in labels with no predicted samples.\n",
      "  'precision', 'predicted', average, warn_for)\n"
     ]
    }
   ],
   "source": [
    "from sklearn.metrics import confusion_matrix\n",
    "confusion_matrix=confusion_matrix(y_T,y_pred)\n",
    "print('\\nconfusion_matrix | LogisticRegression\\n')\n",
    "print(confusion_matrix)\n",
    "from sklearn import metrics #Import scikit-learn metrics module for accuracy calculation\n",
    "from sklearn.metrics import classification_report\n",
    "\n",
    "print('\\nclassification_report | LogisticRegression\\n')\n",
    "print(classification_report(y_T, y_pred))\n",
    "print(\"Accuracy | LogisticRegression:\",metrics.accuracy_score(y_T, y_pred),\"\\n\")\n"
   ]
  },
  {
   "cell_type": "code",
   "execution_count": 10,
   "metadata": {},
   "outputs": [
    {
     "name": "stdout",
     "output_type": "stream",
     "text": [
      "\n",
      "confusion_matrix | Naivebayes\n",
      "\n",
      "[[272 145   0   0]\n",
      " [144 228   0   0]\n",
      " [  5  24   0   0]\n",
      " [  0   2   0   0]]\n",
      "\n",
      "classification_report | Naive Bayes\n",
      "\n",
      "             precision    recall  f1-score   support\n",
      "\n",
      "          A       0.72      0.33      0.45       417\n",
      "          B       0.47      0.54      0.50       372\n",
      "          C       0.09      0.59      0.15        29\n",
      "          E       0.20      1.00      0.33         2\n",
      "\n",
      "avg / total       0.58      0.44      0.46       820\n",
      "\n",
      "Accuracy | Naive Bayes: 0.4353658536585366 \n",
      "\n"
     ]
    }
   ],
   "source": [
    "from sklearn.naive_bayes import GaussianNB\n",
    "# Naive Bayes \n",
    "classifier = GaussianNB()\n",
    "classifier.fit(X, y)\n",
    "y_pred = classifier.predict(X_T)\n",
    "print('\\nconfusion_matrix | Naivebayes\\n')\n",
    "print(confusion_matrix)\n",
    "print('\\nclassification_report | Naive Bayes\\n')\n",
    "print(classification_report(y_T, y_pred))\n",
    "print(\"Accuracy | Naive Bayes:\",metrics.accuracy_score(y_T, y_pred),\"\\n\") # Model Accuracy: how often is the classifier correct?\n"
   ]
  },
  {
   "cell_type": "code",
   "execution_count": 12,
   "metadata": {},
   "outputs": [
    {
     "name": "stdout",
     "output_type": "stream",
     "text": [
      "\n",
      "confusion_matrix | SVM\n",
      "\n",
      "[[272 145   0   0]\n",
      " [144 228   0   0]\n",
      " [  5  24   0   0]\n",
      " [  0   2   0   0]]\n",
      "\n",
      "classification_report | svm\n",
      "\n",
      "             precision    recall  f1-score   support\n",
      "\n",
      "          A       0.66      0.59      0.62       417\n",
      "          B       0.56      0.67      0.61       372\n",
      "          C       0.00      0.00      0.00        29\n",
      "          E       0.00      0.00      0.00         2\n",
      "\n",
      "avg / total       0.59      0.60      0.59       820\n",
      "\n",
      "Accuracy | SVM: 0.6036585365853658 \n",
      "\n"
     ]
    },
    {
     "name": "stderr",
     "output_type": "stream",
     "text": [
      "C:\\Users\\Hassana\\Anaconda3\\lib\\site-packages\\sklearn\\metrics\\classification.py:1135: UndefinedMetricWarning: Precision and F-score are ill-defined and being set to 0.0 in labels with no predicted samples.\n",
      "  'precision', 'predicted', average, warn_for)\n"
     ]
    }
   ],
   "source": [
    "from sklearn import svm #Import svm model\n",
    "clf = svm.SVC(kernel='linear') #Create a svm Classifier\n",
    "clf.fit(X, y) #Train the model using the training sets\n",
    "\n",
    "y_pred = clf.predict(X_T)\n",
    "print('\\nconfusion_matrix | SVM\\n')\n",
    "print(confusion_matrix)\n",
    "\n",
    "print('\\nclassification_report | svm\\n')\n",
    "print(classification_report(y_T, y_pred))\n",
    "print(\"Accuracy | SVM:\",metrics.accuracy_score(y_T, y_pred),\"\\n\") # Model Accuracy\n"
   ]
  },
  {
   "cell_type": "code",
   "execution_count": 13,
   "metadata": {},
   "outputs": [
    {
     "name": "stdout",
     "output_type": "stream",
     "text": [
      "\n",
      "confusion_matrix | Multilayer Perceptron\n",
      "\n",
      "[[272 145   0   0]\n",
      " [144 228   0   0]\n",
      " [  5  24   0   0]\n",
      " [  0   2   0   0]]\n",
      "\n",
      "classification_report | mlp\n",
      "\n",
      "             precision    recall  f1-score   support\n",
      "\n",
      "          A       0.58      0.85      0.69       417\n",
      "          B       0.61      0.35      0.44       372\n",
      "          C       0.00      0.00      0.00        29\n",
      "          E       0.00      0.00      0.00         2\n",
      "\n",
      "avg / total       0.57      0.59      0.55       820\n",
      "\n",
      "Accuracy | MLP: 0.5902439024390244 \n",
      "\n"
     ]
    },
    {
     "name": "stderr",
     "output_type": "stream",
     "text": [
      "C:\\Users\\Hassana\\Anaconda3\\lib\\site-packages\\sklearn\\metrics\\classification.py:1135: UndefinedMetricWarning: Precision and F-score are ill-defined and being set to 0.0 in labels with no predicted samples.\n",
      "  'precision', 'predicted', average, warn_for)\n"
     ]
    }
   ],
   "source": [
    "from sklearn.neural_network import MLPClassifier\n",
    "mlp=MLPClassifier()\n",
    "mlp.fit(X,y)\n",
    "y_pred=mlp.predict(X_T)\n",
    "print('\\nconfusion_matrix | Multilayer Perceptron\\n')\n",
    "print(confusion_matrix)\n",
    "\n",
    "print('\\nclassification_report | mlp\\n')\n",
    "print(classification_report(y_T, y_pred))\n",
    "print(\"Accuracy | MLP:\",metrics.accuracy_score(y_T, y_pred),\"\\n\")"
   ]
  },
  {
   "cell_type": "code",
   "execution_count": null,
   "metadata": {},
   "outputs": [],
   "source": []
  }
 ],
 "metadata": {
  "kernelspec": {
   "display_name": "Python 3",
   "language": "python",
   "name": "python3"
  },
  "language_info": {
   "codemirror_mode": {
    "name": "ipython",
    "version": 3
   },
   "file_extension": ".py",
   "mimetype": "text/x-python",
   "name": "python",
   "nbconvert_exporter": "python",
   "pygments_lexer": "ipython3",
   "version": "3.7.0"
  }
 },
 "nbformat": 4,
 "nbformat_minor": 2
}
